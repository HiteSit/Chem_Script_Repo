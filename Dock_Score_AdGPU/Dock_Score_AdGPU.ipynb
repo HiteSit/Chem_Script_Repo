{
 "cells": [
  {
   "attachments": {},
   "cell_type": "markdown",
   "id": "2cbc48d9",
   "metadata": {},
   "source": [
    "## Extract Dock Score from DLG (AutoDockGPU) output"
   ]
  },
  {
   "attachments": {},
   "cell_type": "markdown",
   "id": "04292a7f",
   "metadata": {},
   "source": [
    "Each .dlg file contatin the following informations: 1) the run/pose number 2) the scoring informations 3) the coordinate in pdbqt format. This script will take as input a working directory in which there will be all the .dlg files output from a virtual screening and the .smiles files.\n",
    "\n",
    "The script will grab the RMSD table in the end of each ligand output and will analyse ALL the runs present inside that table saving the results in .pdbqt format (in the end we will obtain a .pdbqt files with all the best clusters filtered by autodock). Scoring informations will be grabbed too.\n",
    "\n",
    "The conformational energy of every pose (run) will also be computed with an Autodock-indipendent tool: rdkit. Then, from the smiles, it will perform a conformational stocastic search in order to find the global minimum (rdkit). From the two measurement of rdkit the delta conformational energy (conformational energy of the pose minus the global minumum conformational energy) will be calculated.\n",
    "\n",
    "Everything will be added in a nice excel table to further analysis.\n",
    "\n",
    "The script was also made compatible with flexible docking."
   ]
  },
  {
   "attachments": {},
   "cell_type": "markdown",
   "id": "0d287526",
   "metadata": {},
   "source": [
    "### Enviroment Setting\n",
    "The scipt will ask for a working directory, inside that directory must be the following files\n",
    "- .dlg files of each ligand, the direct output from AdGPU\n",
    "- .smiles files of each ligand, every file must have the same name of the .dlg file and must contain only one smile"
   ]
  },
  {
   "attachments": {},
   "cell_type": "markdown",
   "id": "b9465b2a",
   "metadata": {},
   "source": [
    "### Needed Packages:\n",
    "- conda install pandas\n",
    "- conda install -c anaconda openpyxl\n",
    "- conda install numpy\n",
    "- conda install -c conda-forge rdkit\n",
    "- conda install -c conda-forge openbabel\n"
   ]
  },
  {
   "cell_type": "code",
   "execution_count": 14,
   "id": "349c6699",
   "metadata": {},
   "outputs": [],
   "source": [
    "import glob, os, shutil\n",
    "import re\n",
    "import pdb\n",
    "\n",
    "import pandas as pd\n",
    "import numpy as np\n",
    "\n",
    "from openbabel import pybel, openbabel\n",
    "from rdkit import Chem\n",
    "from rdkit.Chem import AllChem\n",
    "from itertools import chain"
   ]
  },
  {
   "attachments": {},
   "cell_type": "markdown",
   "id": "84294ca8",
   "metadata": {},
   "source": [
    "### First let's define some basic functions"
   ]
  },
  {
   "cell_type": "code",
   "execution_count": 15,
   "id": "7172c383",
   "metadata": {},
   "outputs": [],
   "source": [
    "def gen_conf(smile, num_conf, num_iter):\n",
    "    '''\n",
    "    \n",
    "    Generate and minimize a smile input, return a tuple with the energy of the (hopefully) global minimum (MAIN)\n",
    "\n",
    "\n",
    "    '''\n",
    "    mol = Chem.MolFromSmiles(smile)\n",
    "    mol_h_MMFF = Chem.AddHs(mol)\n",
    "\n",
    "    # Number of conformers to be generated\n",
    "    num_of_conformer = num_conf\n",
    "    max_iter = num_iter\n",
    "\n",
    "    # Default value for min energy conformer\n",
    "    min_energy_MMFF = 10000\n",
    "    min_energy_index_MMFF = 0\n",
    "\n",
    "    # Generate conformers (stored inside of the mol object)\n",
    "    cids = AllChem.EmbedMultipleConfs(mol_h_MMFF, numConfs = num_of_conformer, params = AllChem.ETKDG())\n",
    "\n",
    "    # Indexing conformes\n",
    "    ids = list(cids)\n",
    "\n",
    "    # Result minimized conformers (tuple)\n",
    "    results_MMFF = AllChem.MMFFOptimizeMoleculeConfs(mol_h_MMFF,max_iter,)\n",
    "\n",
    "    # Find global minimium\n",
    "    ndx = []\n",
    "    energy = []\n",
    "    \n",
    "    for index, result in enumerate(results_MMFF):\n",
    "        # if result[0] == 0:\n",
    "        ndx.append(index)\n",
    "        energy.append(result[1])\n",
    "        \n",
    "        # else:\n",
    "        #     ndx.append(index)\n",
    "        #     energy.append(np.nan)\n",
    "    \n",
    "    energy_round = [round(x,2) for x in energy]\n",
    "    tup = list(zip(ndx,energy_round))\n",
    "    \n",
    "    min_conf = min(tup, key=lambda t: t[1])\n",
    "    return min_conf"
   ]
  },
  {
   "cell_type": "code",
   "execution_count": 16,
   "id": "611e392b",
   "metadata": {},
   "outputs": [],
   "source": [
    "def convert_to_mol2(pdbqt_string):\n",
    "    '''\n",
    "    \n",
    "    Convert a list of strings from pdbqt to mol2, returns a mol2 list of strings\n",
    "    \n",
    "    '''\n",
    "    \n",
    "    converted = []\n",
    "    \n",
    "    for run in pdbqt_string:\n",
    "        mol = pybel.readstring(\"pdbqt\",run)\n",
    "        mol_string = mol.write(\"mol2\")\n",
    "        \n",
    "        mol = pybel.readstring(\"mol2\",mol_string)\n",
    "        mol.addh()\n",
    "        mol.convertdbonds()\n",
    "        converted.append(mol.write(\"mol2\"))\n",
    "        \n",
    "    return converted"
   ]
  },
  {
   "cell_type": "code",
   "execution_count": 17,
   "id": "dd90c2fd",
   "metadata": {},
   "outputs": [],
   "source": [
    "def calc_conf_energy(mol2_string):\n",
    "    '''\n",
    "    \n",
    "    Calculate conformational energy of a ligand pose, return a integer\n",
    "    Notice that I found a bug in RdKit, so I had to re-write the mol2 string,\n",
    "    it will be a bit memory consuming but it was the only way I found.\n",
    "    \n",
    "\n",
    "    '''\n",
    "    \n",
    "    temp = pybel.readstring(\"mol2\",mol2_string)\n",
    "    temp.addh()\n",
    "    temp.convertdbonds()\n",
    "    mol_temp = temp.write(format=\"mol2\")\n",
    "\n",
    "    mol = Chem.MolFromMol2Block(mol_temp,removeHs=False,sanitize=True)\n",
    "    # mol_h = Chem.AddHs(mol)\n",
    "    # mol_h_min = AllChem.MMFFOptimizeMolecule(mol_h)\n",
    "    ff = AllChem.MMFFGetMoleculeForceField(mol, AllChem.MMFFGetMoleculeProperties(mol))\n",
    "    ff.Initialize()\n",
    "    ff.CalcEnergy()\n",
    "    \n",
    "    return ff.CalcEnergy()"
   ]
  },
  {
   "cell_type": "code",
   "execution_count": 18,
   "id": "4ab251ed",
   "metadata": {},
   "outputs": [],
   "source": [
    "def grab_mol_clean(file):\n",
    "    '''\n",
    "    \n",
    "    Grab the numbers of the best clusters, find the right run, clean the \"DOCKED:\".\n",
    "    So It will write all the best runs in multiple pdbqt files.\n",
    "    \n",
    "    '''\n",
    "        \n",
    "    basename = file.split(\".\")[0]\n",
    "    \n",
    "    pattern_1 = r'[^\\d][\\s\\d][\\s\\d]\\s\\W\\s\\s\\s\\s[\\s\\W][\\s\\d\\W]\\d\\W\\d\\d\\s\\W\\s([\\d\\s]+)\\W\\s\\s\\s\\s[\\s\\W]'\n",
    "    \n",
    "    # Create a list in which there are the best clusters\n",
    "    \n",
    "    best_cluster = []\n",
    "    with open(file,\"r\") as f:\n",
    "        content = f.read()\n",
    "        for i in re.finditer(pattern_1,content):\n",
    "            best_cluster.append(i.group(1))\n",
    "    \n",
    "    # Cast the numbers into an integer\n",
    "    \n",
    "    best_cluster_int = []\n",
    "    for i in best_cluster:\n",
    "         best_cluster_int.append(int(i))\n",
    "    \n",
    "    pattern_tot = r\"(?s)^(\\w{3}:)[^\\S\\n]*(\\d+)[^\\S\\n]*/[^\\S\\n]*(\\d+)\\n(.*?\\nDOCKED: ENDMDL)\"\n",
    "    poses_raw = (re.findall(pattern_tot,content, re.MULTILINE))\n",
    "    \n",
    "    pattern_lig = r\"(?s)^(\\w{3}:)[^\\S\\n]*(\\d+)[^\\S\\n]*/[^\\S\\n]*(\\d+)\\n(.*?\\nDOCKED: TORSDOF)\"\n",
    "    poses_lig = (re.findall(pattern_lig,content, re.MULTILINE))\n",
    "    \n",
    "    def clean(pose):\n",
    "        poses = []\n",
    "        poses_clean = []\n",
    "        \n",
    "        for i in pose:\n",
    "            poses.append(i[3] + \"\\n\")\n",
    "        \n",
    "        for i in poses:\n",
    "            poses_clean.append(re.sub(\"DOCKED:\\s\",\"\",i))\n",
    "        \n",
    "        return poses_clean\n",
    "\n",
    "    return clean(poses_lig), best_cluster_int, basename, clean(poses_raw)"
   ]
  },
  {
   "cell_type": "code",
   "execution_count": 19,
   "id": "ef67f811",
   "metadata": {},
   "outputs": [],
   "source": [
    "def grab_table(file_pdbqt):\n",
    "    '''\n",
    "    \n",
    "    Grab proprieties for each run of a molecule and return the value\n",
    "    \n",
    "    '''\n",
    "    \n",
    "    with open(file_pdbqt,\"r\") as f:\n",
    "        data = f.read()\n",
    "    \n",
    "    pattern_free_energy = r\"(Estimated Free Energy of Binding).*?([-][\\d\\W]*)\"\n",
    "    pattern_inter = r\"(Final Intermolecular Energy).*([-+][\\d\\W]*)\"\n",
    "    pattern_vdw_hbond_desolv = r\"(vdW \\+ Hbond \\+ desolv Energy).*([-+][\\d\\W]*)\"\n",
    "    pattern_electrostatic = r\"(Electrostatic Energy).*([-+][\\d\\W]*)\"\n",
    "    pattern_internal_energy = r\"(Final Total Internal Energy).*([-+][\\d\\W]*)\"\n",
    "    pattern_torsional = r\"(Torsional Free Energy).*([-+][\\d\\W]*)\"\n",
    "    \n",
    "    def value(pattern,data):\n",
    "        \n",
    "        name = []\n",
    "        value = []\n",
    "        \n",
    "        for x in re.finditer(pattern, data):\n",
    "            name.append(x.group(1))\n",
    "            value.append(x.group(2))\n",
    "            \n",
    "        value = [float(x) for x in value]\n",
    "        value = tuple(value)\n",
    "        table = list(zip(name,value))\n",
    "        \n",
    "        return value\n",
    "    \n",
    "    free_energy_values = value(pattern_free_energy,data)\n",
    "    intermol_values = value(pattern_inter,data)\n",
    "    vdw_hbond_values = value(pattern_vdw_hbond_desolv,data)\n",
    "    electro_values = value(pattern_electrostatic,data)\n",
    "    internal_values = value(pattern_internal_energy,data)\n",
    "    torsional_values = value(pattern_torsional,data)\n",
    "    \n",
    "    return free_energy_values, intermol_values, vdw_hbond_values, electro_values, internal_values, torsional_values"
   ]
  },
  {
   "attachments": {},
   "cell_type": "markdown",
   "id": "f29f8410",
   "metadata": {},
   "source": [
    "### Here the core script"
   ]
  },
  {
   "cell_type": "code",
   "execution_count": 20,
   "id": "7107889b",
   "metadata": {},
   "outputs": [],
   "source": [
    "# Define choice-functions\n",
    "def choice_num_conf():\n",
    "    choice = \"wrong\"\n",
    "    \n",
    "    while choice.isdigit() == False:\n",
    "        choice = input(\"\\nChoose number of conformations to generate: \")\n",
    "        \n",
    "        if choice.isdigit() == False:\n",
    "            print(\"\\nYou must provide a number\")\n",
    "    \n",
    "    return int(choice)\n",
    "\n",
    "def choice_max_iter():\n",
    "    choice = \"wrong\"\n",
    "    \n",
    "    while choice.isdigit() == False:\n",
    "        choice = input(\"\\nChoose max interactions: \")\n",
    "        \n",
    "        if choice.isdigit() == False:\n",
    "            print(\"\\nYou must provide a number\")\n",
    "    \n",
    "    return int(choice)"
   ]
  },
  {
   "cell_type": "code",
   "execution_count": 21,
   "id": "eceb308f",
   "metadata": {},
   "outputs": [],
   "source": [
    "# Write files full name & files basename\n",
    "files = glob.glob(\"*.dlg\")\n",
    "basenames = []\n",
    "for file in files:\n",
    "    basenames.append(file.split(\".\")[0])"
   ]
  },
  {
   "cell_type": "code",
   "execution_count": 22,
   "id": "48132492",
   "metadata": {},
   "outputs": [],
   "source": [
    "# Grab the smiles of the ligands\n",
    "smile_files = glob.glob(\"*.smiles\")"
   ]
  },
  {
   "attachments": {},
   "cell_type": "markdown",
   "id": "334e45c2",
   "metadata": {},
   "source": [
    "Rdkit needs two parameters to set up the conformational search:\n",
    "- number of conformations to generate\n",
    "- number of max interactions to perfom"
   ]
  },
  {
   "cell_type": "code",
   "execution_count": 23,
   "id": "b1478ff1",
   "metadata": {},
   "outputs": [],
   "source": [
    "# Generate some conformer for each ligand, minimize all the conformations and write the minimum in a list of tuples\n",
    "\n",
    "num_conf = choice_num_conf()\n",
    "max_iter = choice_max_iter()\n",
    "\n",
    "\n",
    "\n",
    "smiles = []\n",
    "min_confs = []\n",
    "for file in smile_files:\n",
    "    with open(file, \"r\") as f:\n",
    "        data = f.readline()\n",
    "        smiles.append(data)\n",
    "    \n",
    "    min_confs.append(gen_conf(data, num_conf, max_iter))"
   ]
  },
  {
   "cell_type": "code",
   "execution_count": 24,
   "id": "f4e6a4aa",
   "metadata": {},
   "outputs": [],
   "source": [
    "# Save a pdbqt file containing the Autodock clusters\n",
    "tup_1 = list(zip(files,basenames))\n",
    "conv_for_pose = []\n",
    "\n",
    "for file, basename in tup_1:\n",
    "    \n",
    "    # Grab string 100 poses (list len=100)\n",
    "    data = grab_mol_clean(file)[0]\n",
    "    data_save = grab_mol_clean(file)[3]\n",
    "    \n",
    "    # Grab clusters run\n",
    "    clusters = grab_mol_clean(file)[1]\n",
    "    \n",
    "    # Convert only the best poses for each run a append them to a list ligand-indipendent\n",
    "    for num in clusters:\n",
    "        conv_for_pose.append(convert_to_mol2(data)[num-1])\n",
    "    \n",
    "    # Write PDBQT\n",
    "    with open(basename + \".pdbqt\", \"w\") as f:\n",
    "        for num in clusters:\n",
    "            f.write(data_save[num-1])\n",
    "    \n",
    "pdbqt = glob.glob(\"*.pdbqt\")"
   ]
  },
  {
   "cell_type": "code",
   "execution_count": 25,
   "id": "cce63f66",
   "metadata": {},
   "outputs": [
    {
     "name": "stderr",
     "output_type": "stream",
     "text": [
      "[01:17:01] Explicit valence for atom # 4 C, 5, is greater than permitted\n",
      "[01:17:01] sanitise [01:17:01] AWT: [01:17:01] Explicit valence for atom # 3 C, 5, is greater than permitted\n",
      "[01:17:01] sanitise [01:17:01] AWZ: [01:17:01] Explicit valence for atom # 3 C, 5, is greater than permitted\n",
      "[01:17:01] sanitise [01:17:01] AWZ: [01:17:01] Explicit valence for atom # 3 C, 5, is greater than permitted\n",
      "[01:17:01] sanitise [01:17:01] AWZ: [01:17:01] Explicit valence for atom # 3 C, 5, is greater than permitted\n",
      "[01:17:01] sanitise [01:17:01] AWZ: [01:17:01] Explicit valence for atom # 3 C, 5, is greater than permitted\n"
     ]
    }
   ],
   "source": [
    "# Calculate conformational energy for each pose in the previusly made list (still ligand-indipendent)\n",
    "energy_for_run = []\n",
    "\n",
    "for pose in conv_for_pose:\n",
    "    \n",
    "    try:\n",
    "        energy_for_run.append(calc_conf_energy(pose))\n",
    "    except:\n",
    "        energy_for_run.append(\"fail\")"
   ]
  },
  {
   "cell_type": "code",
   "execution_count": 26,
   "id": "776ae0ed",
   "metadata": {},
   "outputs": [],
   "source": [
    "# Create a tuple with all the run number in a ligand-indipendent way\n",
    "runs_nest = []\n",
    "\n",
    "for file in files:\n",
    "    runs_nest.append(grab_mol_clean(file)[1])\n",
    "\n",
    "runs = tuple(chain.from_iterable(runs_nest))"
   ]
  },
  {
   "cell_type": "code",
   "execution_count": 27,
   "id": "41465a46",
   "metadata": {},
   "outputs": [],
   "source": [
    "# Link the molecule with the global minimum conformer\n",
    "min_conf_list = []\n",
    "\n",
    "for f,l in min_confs:\n",
    "    l_round = round(l,2)\n",
    "    min_conf_list.append(l_round)\n",
    "\n",
    "mol_and_min_conf = list(zip(files, min_conf_list))"
   ]
  },
  {
   "cell_type": "code",
   "execution_count": 28,
   "id": "27282ead",
   "metadata": {},
   "outputs": [],
   "source": [
    "# Link the molecule and the conf_energy with the number of runs so that every list has the same lenght\n",
    "mol_for_run = []\n",
    "conf_for_run = []\n",
    "\n",
    "for file, conf in mol_and_min_conf:\n",
    "    temp = grab_mol_clean(file)[1]\n",
    "    \n",
    "    for t in temp:\n",
    "        mol_for_run.append(file)\n",
    "        conf_for_run.append(conf)"
   ]
  },
  {
   "cell_type": "code",
   "execution_count": 29,
   "id": "8050fdc0",
   "metadata": {},
   "outputs": [],
   "source": [
    "# Zip everything\n",
    "mol_conf_for_run = list(zip(mol_for_run,conf_for_run,energy_for_run,runs))"
   ]
  },
  {
   "cell_type": "code",
   "execution_count": 30,
   "id": "4495d561",
   "metadata": {},
   "outputs": [],
   "source": [
    "# Calculate Delta conformational energy\n",
    "final_list = []\n",
    "\n",
    "for a,b,c,d in mol_conf_for_run:\n",
    "    \n",
    "    temp = []\n",
    "    \n",
    "    temp.append(a.split(\".\")[0])\n",
    "    \n",
    "    try:\n",
    "        temp.append(round(c-b,2))\n",
    "    except:\n",
    "        temp.append(np.nan)\n",
    "    \n",
    "    temp.append(d)\n",
    "    \n",
    "    temp_tuple = tuple(temp)\n",
    "    final_list.append(temp_tuple)\n",
    "    \n",
    "final_tuple = tuple(final_list)"
   ]
  },
  {
   "attachments": {},
   "cell_type": "markdown",
   "id": "1b115e64",
   "metadata": {},
   "source": [
    "### Pandas"
   ]
  },
  {
   "attachments": {},
   "cell_type": "markdown",
   "id": "2575d539",
   "metadata": {},
   "source": [
    "We are going to create a pandas DataFrame with the following informations:\n",
    "- Molecule name\n",
    "- Delta conformational energy between pose and global minimum\n",
    "- Run\n",
    "- Dock Energies"
   ]
  },
  {
   "cell_type": "code",
   "execution_count": 31,
   "id": "9dabff7a",
   "metadata": {},
   "outputs": [],
   "source": [
    "# Make index data frame\n",
    "index = pd.MultiIndex.from_tuples(final_tuple, names=[\"Molecule\",\"Delta_Conf_Energy\",\"Run\"])\n",
    "df = pd.DataFrame(index=index)"
   ]
  },
  {
   "cell_type": "code",
   "execution_count": 32,
   "id": "b0b5354c",
   "metadata": {},
   "outputs": [],
   "source": [
    "# Prepare columns\n",
    "energy = []\n",
    "intermol_energy = []\n",
    "vdw_hbond_energy = []\n",
    "electrostatic_energy = []\n",
    "internal_energy = []\n",
    "torsional_energy = []\n",
    "\n",
    "for file in pdbqt:\n",
    "    energy.append(grab_table(file)[0])\n",
    "    intermol_energy.append(grab_table(file)[1])\n",
    "    vdw_hbond_energy.append(grab_table(file)[2])\n",
    "    electrostatic_energy.append(grab_table(file)[3])\n",
    "    internal_energy.append(grab_table(file)[4])\n",
    "    torsional_energy.append(grab_table(file)[5])\n",
    "\n",
    "energy = tuple(chain.from_iterable(energy))\n",
    "intermol_energy = tuple(chain.from_iterable(intermol_energy))\n",
    "vdw_hbond_energy = tuple(chain.from_iterable(vdw_hbond_energy))\n",
    "electrostatic_energy = tuple(chain.from_iterable(electrostatic_energy))\n",
    "internal_energy = tuple(chain.from_iterable(internal_energy))\n",
    "torsional_energy = tuple(chain.from_iterable(torsional_energy))"
   ]
  },
  {
   "cell_type": "code",
   "execution_count": 33,
   "id": "f4c501f5",
   "metadata": {},
   "outputs": [],
   "source": [
    "# Append to index data frame\n",
    "df_final = df.assign(\n",
    "    Free_Energy_Of_Binding = energy,\n",
    "    Intermolecular_Energy = intermol_energy,\n",
    "    VdW_HBond_Desolv_Energy = vdw_hbond_energy,\n",
    "    Electrostatic_Energy = electrostatic_energy,\n",
    "    Internal_Energy = internal_energy,\n",
    "    Torsional_Free_Energy = torsional_energy\n",
    ")"
   ]
  },
  {
   "cell_type": "code",
   "execution_count": 34,
   "id": "b78ab279",
   "metadata": {},
   "outputs": [],
   "source": [
    "# Create a new dataframe sorting the value by dock score\n",
    "df_sort = df_final.sort_values(\"Free_Energy_Of_Binding\",ascending=True)"
   ]
  },
  {
   "attachments": {},
   "cell_type": "markdown",
   "id": "a6005536",
   "metadata": {},
   "source": [
    "Here we can have a preview of the generated table"
   ]
  },
  {
   "cell_type": "code",
   "execution_count": 35,
   "id": "47b137dc",
   "metadata": {},
   "outputs": [
    {
     "data": {
      "text/html": [
       "<div>\n",
       "<style scoped>\n",
       "    .dataframe tbody tr th:only-of-type {\n",
       "        vertical-align: middle;\n",
       "    }\n",
       "\n",
       "    .dataframe tbody tr th {\n",
       "        vertical-align: top;\n",
       "    }\n",
       "\n",
       "    .dataframe thead th {\n",
       "        text-align: right;\n",
       "    }\n",
       "</style>\n",
       "<table border=\"1\" class=\"dataframe\">\n",
       "  <thead>\n",
       "    <tr style=\"text-align: right;\">\n",
       "      <th></th>\n",
       "      <th></th>\n",
       "      <th></th>\n",
       "      <th>Free_Energy_Of_Binding</th>\n",
       "      <th>Intermolecular_Energy</th>\n",
       "      <th>VdW_HBond_Desolv_Energy</th>\n",
       "      <th>Electrostatic_Energy</th>\n",
       "      <th>Internal_Energy</th>\n",
       "      <th>Torsional_Free_Energy</th>\n",
       "    </tr>\n",
       "    <tr>\n",
       "      <th>Molecule</th>\n",
       "      <th>Delta_Conf_Energy</th>\n",
       "      <th>Run</th>\n",
       "      <th></th>\n",
       "      <th></th>\n",
       "      <th></th>\n",
       "      <th></th>\n",
       "      <th></th>\n",
       "      <th></th>\n",
       "    </tr>\n",
       "  </thead>\n",
       "  <tbody>\n",
       "    <tr>\n",
       "      <th>AWT</th>\n",
       "      <th>NaN</th>\n",
       "      <th>39</th>\n",
       "      <td>-10.49</td>\n",
       "      <td>-11.98</td>\n",
       "      <td>-11.98</td>\n",
       "      <td>0.0</td>\n",
       "      <td>-1.76</td>\n",
       "      <td>1.49</td>\n",
       "    </tr>\n",
       "    <tr>\n",
       "      <th rowspan=\"5\" valign=\"top\">AWZ</th>\n",
       "      <th rowspan=\"5\" valign=\"top\">NaN</th>\n",
       "      <th>27</th>\n",
       "      <td>-10.99</td>\n",
       "      <td>-12.78</td>\n",
       "      <td>-12.78</td>\n",
       "      <td>0.0</td>\n",
       "      <td>-2.01</td>\n",
       "      <td>1.79</td>\n",
       "    </tr>\n",
       "    <tr>\n",
       "      <th>85</th>\n",
       "      <td>-10.46</td>\n",
       "      <td>-12.25</td>\n",
       "      <td>-12.25</td>\n",
       "      <td>0.0</td>\n",
       "      <td>-2.57</td>\n",
       "      <td>1.79</td>\n",
       "    </tr>\n",
       "    <tr>\n",
       "      <th>16</th>\n",
       "      <td>-10.29</td>\n",
       "      <td>-12.08</td>\n",
       "      <td>-12.08</td>\n",
       "      <td>0.0</td>\n",
       "      <td>-2.70</td>\n",
       "      <td>1.79</td>\n",
       "    </tr>\n",
       "    <tr>\n",
       "      <th>80</th>\n",
       "      <td>-9.58</td>\n",
       "      <td>-11.37</td>\n",
       "      <td>-11.37</td>\n",
       "      <td>0.0</td>\n",
       "      <td>-3.43</td>\n",
       "      <td>1.79</td>\n",
       "    </tr>\n",
       "    <tr>\n",
       "      <th>92</th>\n",
       "      <td>-9.29</td>\n",
       "      <td>-11.08</td>\n",
       "      <td>-11.08</td>\n",
       "      <td>0.0</td>\n",
       "      <td>-3.55</td>\n",
       "      <td>1.79</td>\n",
       "    </tr>\n",
       "  </tbody>\n",
       "</table>\n",
       "</div>"
      ],
      "text/plain": [
       "                                Free_Energy_Of_Binding  Intermolecular_Energy  \\\n",
       "Molecule Delta_Conf_Energy Run                                                  \n",
       "AWT      NaN               39                   -10.49                 -11.98   \n",
       "AWZ      NaN               27                   -10.99                 -12.78   \n",
       "                           85                   -10.46                 -12.25   \n",
       "                           16                   -10.29                 -12.08   \n",
       "                           80                    -9.58                 -11.37   \n",
       "                           92                    -9.29                 -11.08   \n",
       "\n",
       "                                VdW_HBond_Desolv_Energy  Electrostatic_Energy  \\\n",
       "Molecule Delta_Conf_Energy Run                                                  \n",
       "AWT      NaN               39                    -11.98                   0.0   \n",
       "AWZ      NaN               27                    -12.78                   0.0   \n",
       "                           85                    -12.25                   0.0   \n",
       "                           16                    -12.08                   0.0   \n",
       "                           80                    -11.37                   0.0   \n",
       "                           92                    -11.08                   0.0   \n",
       "\n",
       "                                Internal_Energy  Torsional_Free_Energy  \n",
       "Molecule Delta_Conf_Energy Run                                          \n",
       "AWT      NaN               39             -1.76                   1.49  \n",
       "AWZ      NaN               27             -2.01                   1.79  \n",
       "                           85             -2.57                   1.79  \n",
       "                           16             -2.70                   1.79  \n",
       "                           80             -3.43                   1.79  \n",
       "                           92             -3.55                   1.79  "
      ]
     },
     "execution_count": 35,
     "metadata": {},
     "output_type": "execute_result"
    }
   ],
   "source": [
    "df_final"
   ]
  },
  {
   "attachments": {},
   "cell_type": "markdown",
   "id": "aff52586",
   "metadata": {},
   "source": [
    "### Sort the files in a tidy way\n",
    "- Move pdbqt files in a folder\n",
    "- Generate Excel files of the tables"
   ]
  },
  {
   "cell_type": "code",
   "execution_count": 36,
   "id": "650709fa",
   "metadata": {},
   "outputs": [],
   "source": [
    "# Create a pdbqt directory and move the .pdbqt files\n",
    "try:\n",
    "    os.mkdir(\"pdbqt\")\n",
    "except:\n",
    "    pass\n",
    "\n",
    "for file in pdbqt:\n",
    "    dest = \"pdbqt/\" + file\n",
    "    shutil.move(file, dest)"
   ]
  },
  {
   "cell_type": "code",
   "execution_count": 37,
   "id": "6ee310d2",
   "metadata": {},
   "outputs": [
    {
     "ename": "ModuleNotFoundError",
     "evalue": "No module named 'openpyxl'",
     "output_type": "error",
     "traceback": [
      "\u001b[1;31m---------------------------------------------------------------------------\u001b[0m",
      "\u001b[1;31mModuleNotFoundError\u001b[0m                       Traceback (most recent call last)",
      "\u001b[1;32m~\\AppData\\Local\\Temp\\ipykernel_23648\\1304232142.py\u001b[0m in \u001b[0;36m<module>\u001b[1;34m\u001b[0m\n\u001b[0;32m      2\u001b[0m \u001b[0mos\u001b[0m\u001b[1;33m.\u001b[0m\u001b[0mchdir\u001b[0m\u001b[1;33m(\u001b[0m\u001b[1;34m\"pdbqt/\"\u001b[0m\u001b[1;33m)\u001b[0m\u001b[1;33m\u001b[0m\u001b[1;33m\u001b[0m\u001b[0m\n\u001b[0;32m      3\u001b[0m \u001b[1;33m\u001b[0m\u001b[0m\n\u001b[1;32m----> 4\u001b[1;33m \u001b[0mdf_sort\u001b[0m\u001b[1;33m.\u001b[0m\u001b[0mto_excel\u001b[0m\u001b[1;33m(\u001b[0m\u001b[1;34m\"Pose_Table_Sort.xlsx\"\u001b[0m\u001b[1;33m)\u001b[0m\u001b[1;33m\u001b[0m\u001b[1;33m\u001b[0m\u001b[0m\n\u001b[0m\u001b[0;32m      5\u001b[0m \u001b[0mdf_final\u001b[0m\u001b[1;33m.\u001b[0m\u001b[0mto_excel\u001b[0m\u001b[1;33m(\u001b[0m\u001b[1;34m\"Pose_Table.xlsx\"\u001b[0m\u001b[1;33m)\u001b[0m\u001b[1;33m\u001b[0m\u001b[1;33m\u001b[0m\u001b[0m\n",
      "\u001b[1;32mc:\\Users\\ricca\\Desktop\\Pymol\\lib\\site-packages\\pandas\\core\\generic.py\u001b[0m in \u001b[0;36mto_excel\u001b[1;34m(self, excel_writer, sheet_name, na_rep, float_format, columns, header, index, index_label, startrow, startcol, engine, merge_cells, encoding, inf_rep, verbose, freeze_panes, storage_options)\u001b[0m\n\u001b[0;32m   2194\u001b[0m             \u001b[0mfreeze_panes\u001b[0m\u001b[1;33m=\u001b[0m\u001b[0mfreeze_panes\u001b[0m\u001b[1;33m,\u001b[0m\u001b[1;33m\u001b[0m\u001b[1;33m\u001b[0m\u001b[0m\n\u001b[0;32m   2195\u001b[0m             \u001b[0mengine\u001b[0m\u001b[1;33m=\u001b[0m\u001b[0mengine\u001b[0m\u001b[1;33m,\u001b[0m\u001b[1;33m\u001b[0m\u001b[1;33m\u001b[0m\u001b[0m\n\u001b[1;32m-> 2196\u001b[1;33m             \u001b[0mstorage_options\u001b[0m\u001b[1;33m=\u001b[0m\u001b[0mstorage_options\u001b[0m\u001b[1;33m,\u001b[0m\u001b[1;33m\u001b[0m\u001b[1;33m\u001b[0m\u001b[0m\n\u001b[0m\u001b[0;32m   2197\u001b[0m         )\n\u001b[0;32m   2198\u001b[0m \u001b[1;33m\u001b[0m\u001b[0m\n",
      "\u001b[1;32mc:\\Users\\ricca\\Desktop\\Pymol\\lib\\site-packages\\pandas\\io\\formats\\excel.py\u001b[0m in \u001b[0;36mwrite\u001b[1;34m(self, writer, sheet_name, startrow, startcol, freeze_panes, engine, storage_options)\u001b[0m\n\u001b[0;32m    814\u001b[0m             \u001b[1;31m# 'save', 'supported_extensions' and 'write_cells'  [abstract]\u001b[0m\u001b[1;33m\u001b[0m\u001b[1;33m\u001b[0m\u001b[1;33m\u001b[0m\u001b[0m\n\u001b[0;32m    815\u001b[0m             writer = ExcelWriter(  # type: ignore[abstract]\n\u001b[1;32m--> 816\u001b[1;33m                 \u001b[0mwriter\u001b[0m\u001b[1;33m,\u001b[0m \u001b[0mengine\u001b[0m\u001b[1;33m=\u001b[0m\u001b[0mengine\u001b[0m\u001b[1;33m,\u001b[0m \u001b[0mstorage_options\u001b[0m\u001b[1;33m=\u001b[0m\u001b[0mstorage_options\u001b[0m\u001b[1;33m\u001b[0m\u001b[1;33m\u001b[0m\u001b[0m\n\u001b[0m\u001b[0;32m    817\u001b[0m             )\n\u001b[0;32m    818\u001b[0m             \u001b[0mneed_save\u001b[0m \u001b[1;33m=\u001b[0m \u001b[1;32mTrue\u001b[0m\u001b[1;33m\u001b[0m\u001b[1;33m\u001b[0m\u001b[0m\n",
      "\u001b[1;32mc:\\Users\\ricca\\Desktop\\Pymol\\lib\\site-packages\\pandas\\io\\excel\\_openpyxl.py\u001b[0m in \u001b[0;36m__init__\u001b[1;34m(self, path, engine, mode, storage_options, **engine_kwargs)\u001b[0m\n\u001b[0;32m     28\u001b[0m     ):\n\u001b[0;32m     29\u001b[0m         \u001b[1;31m# Use the openpyxl module as the Excel writer.\u001b[0m\u001b[1;33m\u001b[0m\u001b[1;33m\u001b[0m\u001b[1;33m\u001b[0m\u001b[0m\n\u001b[1;32m---> 30\u001b[1;33m         \u001b[1;32mfrom\u001b[0m \u001b[0mopenpyxl\u001b[0m\u001b[1;33m.\u001b[0m\u001b[0mworkbook\u001b[0m \u001b[1;32mimport\u001b[0m \u001b[0mWorkbook\u001b[0m\u001b[1;33m\u001b[0m\u001b[1;33m\u001b[0m\u001b[0m\n\u001b[0m\u001b[0;32m     31\u001b[0m \u001b[1;33m\u001b[0m\u001b[0m\n\u001b[0;32m     32\u001b[0m         super().__init__(\n",
      "\u001b[1;31mModuleNotFoundError\u001b[0m: No module named 'openpyxl'"
     ]
    }
   ],
   "source": [
    "# Write excel files\n",
    "os.chdir(\"pdbqt/\")\n",
    "\n",
    "df_sort.to_excel(\"Pose_Table_Sort.xlsx\")\n",
    "df_final.to_excel(\"Pose_Table.xlsx\")"
   ]
  },
  {
   "cell_type": "code",
   "execution_count": null,
   "id": "f613f9bc",
   "metadata": {},
   "outputs": [],
   "source": []
  }
 ],
 "metadata": {
  "kernelspec": {
   "display_name": "base",
   "language": "python",
   "name": "python3"
  },
  "language_info": {
   "codemirror_mode": {
    "name": "ipython",
    "version": 3
   },
   "file_extension": ".py",
   "mimetype": "text/x-python",
   "name": "python",
   "nbconvert_exporter": "python",
   "pygments_lexer": "ipython3",
   "version": "3.7.12"
  },
  "vscode": {
   "interpreter": {
    "hash": "6e8b55b23fb4fea428c898f6d7e5b630371b44a20f73165369d5d18124c386a8"
   }
  }
 },
 "nbformat": 4,
 "nbformat_minor": 5
}
