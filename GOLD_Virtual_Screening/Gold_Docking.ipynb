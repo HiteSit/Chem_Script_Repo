{
 "cells": [
  {
   "cell_type": "markdown",
   "metadata": {},
   "source": [
    "## Virtual Screening MultiProcessor Using GOLD"
   ]
  },
  {
   "cell_type": "code",
   "execution_count": null,
   "metadata": {},
   "outputs": [],
   "source": [
    "import os\n",
    "import argparse\n",
    "import time\n",
    "import glob\n",
    "import pandas as pd\n",
    "import numpy as np\n",
    "\n",
    "from ccdc.docking import Docker\n",
    "from ccdc import io\n",
    "from ccdc.io import MoleculeReader, EntryReader, MoleculeWriter, EntryWriter\n",
    "\n",
    "from ccdc import conformer\n",
    "from ccdc.conformer import ConformerGenerator, ConformerSettings\n",
    "from ccdc.screening import Screener\n",
    "\n",
    "from ccdc.protein import Protein\n",
    "\n",
    "import multiprocessing\n",
    "from multiprocessing import Pool"
   ]
  },
  {
   "attachments": {},
   "cell_type": "markdown",
   "metadata": {},
   "source": [
    "### Enviroment Settings\n",
    "The enviroment must be set as follow:\n",
    "- you need a folder called \"ligands\" where you will add all the ligands that you want to dock in mol2 format\n",
    "- inside this folder must be also the cristallized ligand called \"cristal.mol\"\n",
    "- in the same directory where you put this script, must be the protein that you want to use\n",
    "- you must insert the basename of the protein"
   ]
  },
  {
   "cell_type": "code",
   "execution_count": null,
   "metadata": {},
   "outputs": [],
   "source": [
    "# Choose the name of the protein that you want to use for the docking\n",
    "user = input(\"Select protein (basename): \")\n",
    "protein = user + \".pdb\"\n",
    "\n",
    "# Some folder creation\n",
    "try:\n",
    "    ligands_prep_folder = \"ligands_prepared\"\n",
    "    os.mkdir(ligands_prep_folder)\n",
    "except:\n",
    "    pass\n",
    "try:\n",
    "    output_folder = \"output\"\n",
    "    os.mkdir(output_folder)\n",
    "except:\n",
    "    pass"
   ]
  },
  {
   "attachments": {},
   "cell_type": "markdown",
   "metadata": {},
   "source": [
    "### Ligand Preparation"
   ]
  },
  {
   "cell_type": "code",
   "execution_count": null,
   "metadata": {},
   "outputs": [],
   "source": [
    "# Grab the filenames of the ligands to dock\n",
    "ligands_full = glob.glob(\"./ligands/*.mol2\")\n",
    "ligands_basename = [x.split(\"/\")[2] for x in ligands_full]"
   ]
  },
  {
   "cell_type": "code",
   "execution_count": null,
   "metadata": {},
   "outputs": [],
   "source": [
    "def prepare_ligand (ligand_to_prep):\n",
    "    '''\n",
    "    Ligand preparation, it does a stocastic conformational search of 200 conformer. It minimize all of them and then it pick the one with lowest energy\n",
    "    \n",
    "    '''\n",
    "    ligand_prep = Docker.LigandPreparation()\n",
    "    ligand_prep.settings.add_hydrogens = True\n",
    "\n",
    "    prepared_lig = ligand_prep.prepare(EntryReader(f\"./ligands/{ligand_to_prep}\")[0])\n",
    "    with MoleculeWriter(f'ligands/{ligand_to_prep}') as mol_writer:\n",
    "        mol_writer.write(prepared_lig.molecule)\n",
    "    \n",
    "    \n",
    "    mol_reader = io.MoleculeReader(f\"./ligands/{ligand_to_prep}\")\n",
    "    mol = mol_reader[0]\n",
    "    conformer_generator = conformer.ConformerGenerator()\n",
    "    conformer_generator.settings.max_conformers = 200\n",
    "    conformer_generator.settings.superimpose_conformers_onto_reference = True\n",
    "\n",
    "    conformers = conformer_generator.generate(mol)\n",
    "    most_probable_conformer = conformers[0]\n",
    "\n",
    "    molecule_minimiser = conformer.MoleculeMinimiser()\n",
    "    minimised_mol = molecule_minimiser.minimise(mol)\n",
    "    minimised_mol\n",
    "    io.MoleculeWriter(f\"./ligands_prepared/prep_{ligand_to_prep}\").write(minimised_mol)"
   ]
  },
  {
   "cell_type": "code",
   "execution_count": null,
   "metadata": {},
   "outputs": [],
   "source": [
    "for ligand in ligands_basename:\n",
    "    prepare_ligand(ligand)"
   ]
  },
  {
   "attachments": {},
   "cell_type": "markdown",
   "metadata": {},
   "source": [
    "### Prepare Protein"
   ]
  },
  {
   "cell_type": "code",
   "execution_count": null,
   "metadata": {},
   "outputs": [],
   "source": [
    "prot_entry = Protein.from_file(protein)"
   ]
  },
  {
   "cell_type": "code",
   "execution_count": null,
   "metadata": {},
   "outputs": [],
   "source": [
    "# It prepare the protein: removing Water, removing HETATM, adding Hydrogens\n",
    "prot_entry.remove_all_waters()\n",
    "prot_entry.remove_unknown_atoms()\n",
    "prot_entry.add_hydrogens()\n",
    "lig_prot = prot_entry.ligands\n",
    "prot_prepared_filename = protein.split(\".\")[0] + \"_clean.pdb\"\n",
    "\n",
    "for l in lig_prot:\n",
    "    prot_entry.remove_ligand(l.identifier)\n",
    "with EntryWriter(prot_prepared_filename) as writer:\n",
    "    writer.write(prot_entry)"
   ]
  },
  {
   "attachments": {},
   "cell_type": "markdown",
   "metadata": {},
   "source": [
    "### Dock"
   ]
  },
  {
   "cell_type": "code",
   "execution_count": null,
   "metadata": {},
   "outputs": [],
   "source": [
    "# Enviromental Variables\n",
    "docker = Docker()\n",
    "settings = docker.settings"
   ]
  },
  {
   "cell_type": "code",
   "execution_count": 18,
   "metadata": {},
   "outputs": [],
   "source": [
    "def docking(params):\n",
    "\n",
    "    prot = params[0]\n",
    "    cristal = params[1]\n",
    "    lig = params[2]\n",
    "    folder_output = params[3]\n",
    "    runs = params[4]\n",
    "\n",
    "    # Objects\n",
    "    protein_file = os.path.abspath(prot)\n",
    "    ligand_file = os.path.abspath(lig)\n",
    "    native_ligand_file = os.path.abspath(cristal)\n",
    "\n",
    "    # Protein and Ligand\n",
    "    protein = Protein.from_file(protein_file)\n",
    "    ligand = MoleculeReader(ligand_file)[0]\n",
    "    \n",
    "    # Binding Box and Cristal\n",
    "    native_ligand = MoleculeReader(native_ligand_file)[0]\n",
    "    settings.add_protein_file(protein_file)\n",
    "    settings.add_ligand_file(ligand_file, runs)\n",
    "    settings.reference_ligand_file = cristal\n",
    "    settings.binding_site = settings.BindingSiteFromLigand(protein, native_ligand, 8.0)\n",
    "\n",
    "    # Engine Settings\n",
    "    settings.fitness_function = 'goldscore'\n",
    "    settings.rescore_function = \"chemscore\"\n",
    "    settings.autoscale = 100.\n",
    "    settings.early_termination = False\n",
    "    settings.write_options = [\"NO_LINK_FILES\"]\n",
    "    settings.diverse_solutions = (True, 10, 1.5)\n",
    "\n",
    "    # Output Handling\n",
    "    lig_basename = lig.split(\"/\")[1]\n",
    "    lig_folder = os.path.join(\"output\", lig_basename)\n",
    "\n",
    "    settings.output_directory = lig_folder\n",
    "    settings.output_file = f\"{lig_basename}_merge.mol2\"\n",
    "\n",
    "    docker.dock(file_name=f\"{lig_basename}.conf\")\n",
    "    docker.dock(file_name=os.path.join(lig_folder, f\"{lig_basename}.conf\"))"
   ]
  },
  {
   "cell_type": "code",
   "execution_count": 19,
   "metadata": {},
   "outputs": [],
   "source": [
    "ligands_prepared = glob.glob(f\"{ligands_prep_folder}/*.mol2\")\n",
    "runs = 10"
   ]
  },
  {
   "attachments": {},
   "cell_type": "markdown",
   "metadata": {},
   "source": [
    "### Multiprocessing"
   ]
  },
  {
   "cell_type": "code",
   "execution_count": 20,
   "metadata": {},
   "outputs": [],
   "source": [
    "params = [(prot_prepared_filename, \"./ligands/cristal.mol2\", lig, output_folder, 10) for lig in ligands_prepared]"
   ]
  },
  {
   "cell_type": "code",
   "execution_count": 21,
   "metadata": {},
   "outputs": [
    {
     "name": "stdout",
     "output_type": "stream",
     "text": [
      "Starting GOLD with conf file /mnt/e/GOLD/Screening_2/prep_cristal.mol2.confStarting GOLD with conf file /mnt/e/GOLD/Screening_2/prep_VS_1.mol2.conf\n",
      "\n",
      "Starting GOLD with conf file /mnt/e/GOLD/Screening_2/prep_VS_2.mol2.conf\n",
      "Starting GOLD with conf file /mnt/e/GOLD/Screening_2/prep_AF_1_R.mol2.conf\n",
      "Unsetting the LD_LIBRARY_PATH environment variable.\n",
      "Previous value was /usr/local/gromacs/lib\n",
      "Please do not rely on CCDC wrapper scripts doing this and ensure the directories in LD_LIBRARY_PATH do not interfere with CCDC provided libraries.\n",
      "Setting up GOLD environment...\n",
      "Unsetting the LD_LIBRARY_PATH environment variable.\n",
      "Previous value was /usr/local/gromacs/lib\n",
      "Please do not rely on CCDC wrapper scripts doing this and ensure the directories in LD_LIBRARY_PATH do not interfere with CCDC provided libraries.\n",
      "Setting up GOLD environment...\n",
      "Unsetting the LD_LIBRARY_PATH environment variable.\n",
      "Previous value was /usr/local/gromacs/lib\n",
      "Please do not rely on CCDC wrapper scripts doing this and ensure the directories in LD_LIBRARY_PATH do not interfere with CCDC provided libraries.\n",
      "Setting up GOLD environment...\n",
      "Unsetting the LD_LIBRARY_PATH environment variable.\n",
      "Previous value was /usr/local/gromacs/lib\n",
      "Please do not rely on CCDC wrapper scripts doing this and ensure the directories in LD_LIBRARY_PATH do not interfere with CCDC provided libraries.\n",
      "Setting up GOLD environment...\n",
      "GOLD Version 2022.3.0\n",
      "GOLD Version 2022.3.0\n",
      "GOLD Version 2022.3.0\n",
      "GOLD Version 2022.3.0\n",
      "Running:\n",
      " \n",
      "     \"/home/hitesit/CCDC/Discovery_2022/GOLD/gold/d_linux_64/bin/gold_linux_64\" \"/mnt/e/GOLD/Screening_2/prep_cristal.mol2.conf\"\n",
      "\n",
      "Running:\n",
      " \n",
      "     \"/home/hitesit/CCDC/Discovery_2022/GOLD/gold/d_linux_64/bin/gold_linux_64\" \"/mnt/e/GOLD/Screening_2/prep_VS_1.mol2.conf\"\n",
      "\n",
      "Running:\n",
      " \n",
      "     \"/home/hitesit/CCDC/Discovery_2022/GOLD/gold/d_linux_64/bin/gold_linux_64\" \"/mnt/e/GOLD/Screening_2/prep_VS_2.mol2.conf\"\n",
      "\n",
      "Running:\n",
      " \n",
      "     \"/home/hitesit/CCDC/Discovery_2022/GOLD/gold/d_linux_64/bin/gold_linux_64\" \"/mnt/e/GOLD/Screening_2/prep_AF_1_R.mol2.conf\"\n",
      "\n",
      "Starting GOLD with conf file /mnt/e/GOLD/Screening_2/output/prep_VS_2.mol2/prep_VS_2.mol2.conf\n",
      "Unsetting the LD_LIBRARY_PATH environment variable.\n",
      "Previous value was /usr/local/gromacs/lib\n",
      "Please do not rely on CCDC wrapper scripts doing this and ensure the directories in LD_LIBRARY_PATH do not interfere with CCDC provided libraries.\n",
      "Setting up GOLD environment...\n",
      "GOLD Version 2022.3.0\n",
      "Running:\n",
      " \n",
      "     \"/home/hitesit/CCDC/Discovery_2022/GOLD/gold/d_linux_64/bin/gold_linux_64\" \"/mnt/e/GOLD/Screening_2/output/prep_VS_2.mol2/prep_VS_2.mol2.conf\"\n",
      "\n",
      "Starting GOLD with conf file /mnt/e/GOLD/Screening_2/output/prep_AF_1_R.mol2/prep_AF_1_R.mol2.conf\n",
      "Unsetting the LD_LIBRARY_PATH environment variable.\n",
      "Previous value was /usr/local/gromacs/lib\n",
      "Please do not rely on CCDC wrapper scripts doing this and ensure the directories in LD_LIBRARY_PATH do not interfere with CCDC provided libraries.\n",
      "Setting up GOLD environment...\n",
      "GOLD Version 2022.3.0\n",
      "Running:\n",
      " \n",
      "     \"/home/hitesit/CCDC/Discovery_2022/GOLD/gold/d_linux_64/bin/gold_linux_64\" \"/mnt/e/GOLD/Screening_2/output/prep_AF_1_R.mol2/prep_AF_1_R.mol2.conf\"\n",
      "\n",
      "Starting GOLD with conf file /mnt/e/GOLD/Screening_2/output/prep_cristal.mol2/prep_cristal.mol2.conf\n",
      "Unsetting the LD_LIBRARY_PATH environment variable.\n",
      "Previous value was /usr/local/gromacs/lib\n",
      "Please do not rely on CCDC wrapper scripts doing this and ensure the directories in LD_LIBRARY_PATH do not interfere with CCDC provided libraries.\n",
      "Setting up GOLD environment...\n",
      "GOLD Version 2022.3.0\n",
      "Running:\n",
      " \n",
      "     \"/home/hitesit/CCDC/Discovery_2022/GOLD/gold/d_linux_64/bin/gold_linux_64\" \"/mnt/e/GOLD/Screening_2/output/prep_cristal.mol2/prep_cristal.mol2.conf\"\n",
      "\n",
      "Starting GOLD with conf file /mnt/e/GOLD/Screening_2/output/prep_VS_1.mol2/prep_VS_1.mol2.conf\n",
      "Unsetting the LD_LIBRARY_PATH environment variable.\n",
      "Previous value was /usr/local/gromacs/lib\n",
      "Please do not rely on CCDC wrapper scripts doing this and ensure the directories in LD_LIBRARY_PATH do not interfere with CCDC provided libraries.\n",
      "Setting up GOLD environment...\n",
      "GOLD Version 2022.3.0\n",
      "Running:\n",
      " \n",
      "     \"/home/hitesit/CCDC/Discovery_2022/GOLD/gold/d_linux_64/bin/gold_linux_64\" \"/mnt/e/GOLD/Screening_2/output/prep_VS_1.mol2/prep_VS_1.mol2.conf\"\n",
      "\n"
     ]
    }
   ],
   "source": [
    "import ccdc.utilities\n",
    "if __name__ == '__main__':\n",
    "    with Pool(16) as p:\n",
    "        p.map(docking, params)"
   ]
  },
  {
   "attachments": {},
   "cell_type": "markdown",
   "metadata": {},
   "source": [
    "### Single Core"
   ]
  },
  {
   "cell_type": "code",
   "execution_count": null,
   "metadata": {},
   "outputs": [],
   "source": [
    "for lig in ligands_prepared:\n",
    "    params = (prot_prepared_filename, \"./ligands/cristal.mol2\", lig, output_folder, 10)\n",
    "    results = docking(params)"
   ]
  },
  {
   "cell_type": "markdown",
   "metadata": {},
   "source": [
    "### Analysis Results"
   ]
  },
  {
   "cell_type": "code",
   "execution_count": 22,
   "metadata": {},
   "outputs": [],
   "source": [
    "conf_files = glob.glob(\"*.conf\")"
   ]
  },
  {
   "cell_type": "code",
   "execution_count": 23,
   "metadata": {},
   "outputs": [],
   "source": [
    "full_dict = {}\n",
    "for file in conf_files:\n",
    "    settings = Docker.Settings.from_file(file)\n",
    "    results = Docker.Results(settings)\n",
    "    ligands_scored = results.ligands\n",
    "\n",
    "    all_dict = {}\n",
    "    for num in range(0, len(ligands_scored)):\n",
    "        mydict = ligands_scored[num].scoring_term()\n",
    "        all_dict[f\"pose_{num + 1}\"] = mydict\n",
    "\n",
    "    full_dict[f\"{file}\"] = all_dict"
   ]
  },
  {
   "cell_type": "code",
   "execution_count": 24,
   "metadata": {},
   "outputs": [],
   "source": [
    "df = pd.DataFrame.from_dict({(i,j,k): full_dict[i][j][k]\n",
    "                             for i in full_dict.keys()\n",
    "                             for j in full_dict[i].keys()\n",
    "                             for k in full_dict[i][j].keys()},\n",
    "                            orient='index')\n",
    "df.index = pd.MultiIndex.from_tuples(df.index)\n",
    "df.columns = ['Values']"
   ]
  },
  {
   "cell_type": "code",
   "execution_count": 26,
   "metadata": {},
   "outputs": [
    {
     "data": {
      "text/html": [
       "<div>\n",
       "<style scoped>\n",
       "    .dataframe tbody tr th:only-of-type {\n",
       "        vertical-align: middle;\n",
       "    }\n",
       "\n",
       "    .dataframe tbody tr th {\n",
       "        vertical-align: top;\n",
       "    }\n",
       "\n",
       "    .dataframe thead th {\n",
       "        text-align: right;\n",
       "    }\n",
       "</style>\n",
       "<table border=\"1\" class=\"dataframe\">\n",
       "  <thead>\n",
       "    <tr style=\"text-align: right;\">\n",
       "      <th></th>\n",
       "      <th></th>\n",
       "      <th></th>\n",
       "      <th>Values</th>\n",
       "    </tr>\n",
       "  </thead>\n",
       "  <tbody>\n",
       "    <tr>\n",
       "      <th rowspan=\"5\" valign=\"top\">prep_AF_1_R.mol2.conf</th>\n",
       "      <th rowspan=\"5\" valign=\"top\">pose_1</th>\n",
       "      <th>Gold.Chemscore.DEClash.Weighted</th>\n",
       "      <td>0.4969</td>\n",
       "    </tr>\n",
       "    <tr>\n",
       "      <th>Gold.Chemscore.DEClash</th>\n",
       "      <td>0.4969</td>\n",
       "    </tr>\n",
       "    <tr>\n",
       "      <th>Gold.Chemscore.DEInternal.Weighted</th>\n",
       "      <td>1.1839</td>\n",
       "    </tr>\n",
       "    <tr>\n",
       "      <th>Gold.Chemscore.DEInternal</th>\n",
       "      <td>1.1839</td>\n",
       "    </tr>\n",
       "    <tr>\n",
       "      <th>Gold.Chemscore.DG</th>\n",
       "      <td>-16.2191</td>\n",
       "    </tr>\n",
       "    <tr>\n",
       "      <th>...</th>\n",
       "      <th>...</th>\n",
       "      <th>...</th>\n",
       "      <td>...</td>\n",
       "    </tr>\n",
       "    <tr>\n",
       "      <th rowspan=\"5\" valign=\"top\">prep_VS_2.mol2.conf</th>\n",
       "      <th rowspan=\"5\" valign=\"top\">pose_10</th>\n",
       "      <th>Gold.Goldscore.Internal.Torsion</th>\n",
       "      <td>-3.7343</td>\n",
       "    </tr>\n",
       "    <tr>\n",
       "      <th>Gold.Goldscore.Internal.Vdw.Weighted</th>\n",
       "      <td>2.1865</td>\n",
       "    </tr>\n",
       "    <tr>\n",
       "      <th>Gold.Goldscore.Internal.Vdw</th>\n",
       "      <td>2.1865</td>\n",
       "    </tr>\n",
       "    <tr>\n",
       "      <th>Gold.Goldscore.Reference.RMSD</th>\n",
       "      <td>4.3128</td>\n",
       "    </tr>\n",
       "    <tr>\n",
       "      <th>Gold.Reference.RMSD</th>\n",
       "      <td>4.3128</td>\n",
       "    </tr>\n",
       "  </tbody>\n",
       "</table>\n",
       "<p>1400 rows × 1 columns</p>\n",
       "</div>"
      ],
      "text/plain": [
       "                                                                     Values\n",
       "prep_AF_1_R.mol2.conf pose_1  Gold.Chemscore.DEClash.Weighted        0.4969\n",
       "                              Gold.Chemscore.DEClash                 0.4969\n",
       "                              Gold.Chemscore.DEInternal.Weighted     1.1839\n",
       "                              Gold.Chemscore.DEInternal              1.1839\n",
       "                              Gold.Chemscore.DG                    -16.2191\n",
       "...                                                                     ...\n",
       "prep_VS_2.mol2.conf   pose_10 Gold.Goldscore.Internal.Torsion       -3.7343\n",
       "                              Gold.Goldscore.Internal.Vdw.Weighted   2.1865\n",
       "                              Gold.Goldscore.Internal.Vdw            2.1865\n",
       "                              Gold.Goldscore.Reference.RMSD          4.3128\n",
       "                              Gold.Reference.RMSD                    4.3128\n",
       "\n",
       "[1400 rows x 1 columns]"
      ]
     },
     "execution_count": 26,
     "metadata": {},
     "output_type": "execute_result"
    }
   ],
   "source": [
    "df"
   ]
  },
  {
   "cell_type": "code",
   "execution_count": null,
   "metadata": {},
   "outputs": [],
   "source": []
  }
 ],
 "metadata": {
  "kernelspec": {
   "display_name": "cheminf",
   "language": "python",
   "name": "python3"
  },
  "language_info": {
   "codemirror_mode": {
    "name": "ipython",
    "version": 3
   },
   "file_extension": ".py",
   "mimetype": "text/x-python",
   "name": "python",
   "nbconvert_exporter": "python",
   "pygments_lexer": "ipython3",
   "version": "3.7.9"
  },
  "orig_nbformat": 4,
  "vscode": {
   "interpreter": {
    "hash": "c1aba33e8e036e1fe8251e74871cebea2aaeb33d795e4131b3709834cd89427b"
   }
  }
 },
 "nbformat": 4,
 "nbformat_minor": 2
}
